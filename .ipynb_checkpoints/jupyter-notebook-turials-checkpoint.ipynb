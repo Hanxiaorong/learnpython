{
 "cells": [
  {
   "cell_type": "markdown",
   "metadata": {},
   "source": [
    "# 探索Jupyter notebook\n",
    "\n",
    "## Jupyter notebook是什么？\n",
    "\n",
    "Jupyther notebook 是一个可以把代码、图像、注释、公式和作图集于一处，从而实现可读性分析的一种灵活的工具。 **它的核心在于展示与快速迭代。**\n",
    "\n",
    "![Jupyter notebook界面](https://www.dataquest.io/blog/images/jupyter/interface-screenshot.png)\n",
    "\n",
    "## 为什么要使用 Jupyter notebook？\n",
    "\n",
    "看看各路大神，都用Jupyter notebook干了什么，自然就回答了这个问题。\n",
    "\n",
    "* 先来个有趣的，三体问题模拟器\n",
    "    * [Three-Body Problem](http://nbviewer.jupyter.org/github/pjpmarques/Julia-Modeling-the-World/blob/master/Three-Body%20Problem.ipynb)\n",
    "* 各路大神写的Python教程\n",
    "    * [Introduction to Python](http://nbviewer.jupyter.org/github/ehmatthes/intro_programming/blob/master/notebooks/index.ipynb)\n",
    "    * [Exploratory computing with Python by Mark Bakker](http://mbakker7.github.io/exploratory_computing_with_python/)\n",
    "    * [Exploratory computing with Python by Mark Bakker](http://nbviewer.jupyter.org/github/yoavram/CS1001.py/tree/master/)\n",
    "* 机器学习人工神经网络模型\n",
    "    * [Neural Networks](http://nbviewer.jupyter.org/github/masinoa/machine_learning/blob/master/04_Neural_Networks.ipynb)\n",
    "* 表格数据处理库Pandas教程\n",
    "    * [.Analysing structured data using pandas](http://nbviewer.jupyter.org/github/phelps-sg/python-bigdata/blob/master/src/main/ipynb/pandas.ipynb)\n",
    "\n",
    "## 如何安装Jupyter notebook？\n",
    "\n",
    "* 直接安装[Anaconda](https://www.continuum.io/downloads)(强烈推荐)\n",
    "* 使用pip安装Jupyter notebook\n",
    "    * ```pip3 install jupyter```"
   ]
  }
 ],
 "metadata": {
  "kernelspec": {
   "display_name": "Python 3",
   "language": "python",
   "name": "python3"
  },
  "language_info": {
   "codemirror_mode": {
    "name": "ipython",
    "version": 3
   },
   "file_extension": ".py",
   "mimetype": "text/x-python",
   "name": "python",
   "nbconvert_exporter": "python",
   "pygments_lexer": "ipython3",
   "version": "3.6.1"
  }
 },
 "nbformat": 4,
 "nbformat_minor": 2
}
